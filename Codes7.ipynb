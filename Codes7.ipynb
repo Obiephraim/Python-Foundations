{
 "cells": [
  {
   "cell_type": "code",
   "execution_count": null,
   "id": "5548d0db",
   "metadata": {},
   "outputs": [],
   "source": [
    "Conditions in Python\n",
    "Estimated time needed: 20 minutes\n",
    "\n",
    "Objectives\n",
    "After completing this lab you will be able to:\n",
    "\n",
    "work with condition statements in Python, including operators, and branching.\n",
    "Table of Contents\n",
    "Condition Statements\n",
    "Comparison Operators\n",
    "Branching\n",
    "Logical operators\n",
    "Quiz on Condition Statement\n",
    "Condition Statements\n",
    "Comparison Operators\n",
    "Comparison operations compare some value or operand and based on a condition, produce a Boolean. When comparing two values you can use these operators:\n",
    "\n",
    "equal: ==\n",
    "not equal: !=\n",
    "greater than: >\n",
    "less than: <\n",
    "greater than or equal to: >=\n",
    "less than or equal to: <=\n",
    "Let's assign a a value of 5. Use the equality operator denoted with two equal == signs to determine if two values are equal. The case below compares the variable a with 6.\n",
    "\n",
    "# Condition Equal\n",
    "​\n",
    "a = 5\n",
    "a == 6\n",
    "The result is False, as 5 does not equal to 6.\n",
    "\n",
    "Consider the following equality comparison operator: i > 5. If the value of the left operand, in this case the variable i, is greater than the value of the right operand, in this case 5, then the statement is True. Otherwise, the statement is False. If i is equal to 6, because 6 is larger than 5, the output is True.\n",
    "\n",
    "# Greater than Sign\n",
    "​\n",
    "i = 6\n",
    "i > 5\n",
    "Set i = 2. The statement is False as 2 is not greater than 5:\n",
    "\n",
    "# Greater than Sign\n",
    "​\n",
    "i = 2\n",
    "i > 5\n",
    "Let's display some values for i in the figure. Set the values greater than 5 in green and the rest in red. The green region represents where the condition is True, the red where the statement is False. If the value of i is 2, we get False as the 2 falls in the red region. Similarly, if the value for i is 6 we get a True as the condition falls in the green region.\n",
    "\n",
    "Image\n",
    "The inequality test uses an exclamation mark preceding the equal sign, if two operands are not equal then the condition becomes True. For example, the following condition will produce True as long as the value of i is not equal to 6:\n",
    "\n",
    "# Inequality Sign\n",
    "​\n",
    "i = 2\n",
    "i != 6\n",
    "When i equals 6 the inequality expression produces False.\n",
    "\n",
    "# Inequality Sign\n",
    "​\n",
    "i = 6\n",
    "i != 6\n",
    "See the number line below. When the condition is True, the corresponding numbers are marked in green and for where the condition is False the corresponding number is marked in red. If we set i equal to 2 the operator is true, since 2 is in the green region. If we set i equal to 6, we get a False, since the condition falls in the red region.\n",
    "\n",
    "Image\n",
    "We can apply the same methods on strings. For example, we can use an equality operator on two different strings. As the strings are not equal, we get a False.\n",
    "\n",
    "# Use Equality sign to compare the strings\n",
    "​\n",
    "\"ACDC\" == \"Michael Jackson\"\n",
    "If we use the inequality operator, the output is going to be True as the strings are not equal.\n",
    "\n",
    "# Use Inequality sign to compare the strings\n",
    "​\n",
    "\"ACDC\" != \"Michael Jackson\"\n",
    "The inequality operation is also used to compare the letters/words/symbols according to the ASCII value of letters. The decimal value shown in the following table represents the order of the character:\n",
    "\n",
    "Char.\tASCII\tChar.\tASCII\tChar.\tASCII\tChar.\tASCII\n",
    "A\t65\tN\t78\ta\t97\tn\t110\n",
    "B\t66\tO\t79\tb\t98\to\t111\n",
    "C\t67\tP\t80\tc\t99\tp\t112\n",
    "D\t68\tQ\t81\td\t100\tq\t113\n",
    "E\t69\tR\t82\te\t101\tr\t114\n",
    "F\t70\tS\t83\tf\t102\ts\t115\n",
    "G\t71\tT\t84\tg\t103\tt\t116\n",
    "H\t72\tU\t85\th\t104\tu\t117\n",
    "I\t73\tV\t86\ti\t105\tv\t118\n",
    "J\t74\tW\t87\tj\t106\tw\t119\n",
    "K\t75\tX\t88\tk\t107\tx\t120\n",
    "L\t76\tY\t89\tl\t108\ty\t121\n",
    "M\t77\tZ\t90\tm\t109\tz\t122\n",
    "For example, the ASCII code for ! is 33, while the ASCII code for + is 43. Therefore + is larger than ! as 43 is greater than 33.\n",
    "\n",
    "Similarly, from the table above we see that the value for A is 65, and the value for B is 66, therefore:\n",
    "\n",
    "# Compare characters\n",
    "​\n",
    "'B' > 'A'\n",
    "When there are multiple letters, the first letter takes precedence in ordering:\n",
    "\n",
    "# Compare characters\n",
    "​\n",
    "'BA' > 'AB'\n",
    "Note: Upper Case Letters have different ASCII code than Lower Case Letters, which means the comparison between the letters in Python is case-sensitive.\n",
    "\n",
    "Branching\n",
    "Branching allows us to run different statements for different inputs. It is helpful to think of an if statement as a locked room, if the statement is True we can enter the room and your program will run some predefined tasks, but if the statement is False the program will ignore the task.\n",
    "\n",
    "For example, consider the blue rectangle representing an ACDC concert. If the individual is older than 18, they can enter the ACDC concert. If they are 18 or younger, they cannot enter the concert.\n",
    "\n",
    "We can use the condition statements learned before as the conditions that need to be checked in the if statement. The syntax is as simple as  if condition statement :, which contains a word if, any condition statement, and a colon at the end. Start your tasks which need to be executed under this condition in a new line with an indent. The lines of code after the colon and with an indent will only be executed when the if statement is True. The tasks will end when the line of code does not contain the indent.\n",
    "\n",
    "In the case below, the code print(“you can enter”) is executed only if the variable age is greater than 18 is a True case because this line of code has the indent. However, the execution of print(“move on”) will not be influenced by the if statement.\n",
    "\n",
    "# If statement example\n",
    "​\n",
    "age = 19\n",
    "#age = 18\n",
    "​\n",
    "#expression that can be true or false\n",
    "if age > 18:\n",
    "    \n",
    "    #within an indent, we have the expression that is run if the condition is true\n",
    "    print(\"you can enter\" )\n",
    "​\n",
    "#The statements after the if statement will run regardless if the condition is true or false \n",
    "print(\"move on\")\n",
    "Try uncommenting the age variable\n",
    "\n",
    "It is helpful to use the following diagram to illustrate the process. On the left side, we see what happens when the condition is True. The person enters the ACDC concert representing the code in the indent being executed; they then move on. On the right side, we see what happens when the condition is False; the person is not granted access, and the person moves on. In this case, the segment of code in the indent does not run, but the rest of the statements are run.\n",
    "\n",
    "Image\n",
    "The else statement runs a block of code if none of the conditions are True before this else statement. Let's use the ACDC concert analogy again. If the user is 17 they cannot go to the ACDC concert, but they can go to the Meatloaf concert. The syntax of the else statement is similar as the syntax of the if statement, as else :. Notice that, there is no condition statement for else. Try changing the values of age to see what happens:\n",
    "\n",
    "# Else statement example\n",
    "​\n",
    "age = 18\n",
    "# age = 19\n",
    "​\n",
    "if age > 18:\n",
    "    print(\"you can enter\" )\n",
    "else:\n",
    "    print(\"go see Meat Loaf\" )\n",
    "    \n",
    "print(\"move on\")\n",
    "The process is demonstrated below, where each of the possibilities is illustrated on each side of the image. On the left is the case where the age is 17, we set the variable age to 17, and this corresponds to the individual attending the Meatloaf concert. The right portion shows what happens when the individual is over 18, in this case 19, and the individual is granted access to the concert.\n",
    "\n",
    "Image\n",
    "The elif statement, short for else if, allows us to check additional conditions if the condition statements before it are False. If the condition for the elif statement is True, the alternate expressions will be run. Consider the concert example, where if the individual is 18 they will go to the Pink Floyd concert instead of attending the ACDC or Meat-loaf concert. A person that is 18 years of age enters the area, and as they are not older than 18 they can not see ACDC, but since they are 18 years of age, they attend Pink Floyd. After seeing Pink Floyd, they move on. The syntax of the elif statement is similar in that we merely change the if in the if statement to elif.\n",
    "\n",
    "# Elif statment example\n",
    "​\n",
    "age = 18\n",
    "​\n",
    "if age > 18:\n",
    "    print(\"you can enter\" )\n",
    "elif age == 18:\n",
    "    print(\"go see Pink Floyd\")\n",
    "else:\n",
    "    print(\"go see Meat Loaf\" )\n",
    "    \n",
    "print(\"move on\")\n",
    "The three combinations are shown in the figure below. The left-most region shows what happens when the individual is less than 18 years of age. The central component shows when the individual is exactly 18. The rightmost shows when the individual is over 18.\n",
    "\n",
    "Image\n",
    "Look at the following code:\n",
    "\n",
    "# Condition statement example\n",
    "​\n",
    "album_year = 1983\n",
    "album_year = 1970\n",
    "​\n",
    "if album_year > 1980:\n",
    "    print(\"Album year is greater than 1980\")\n",
    "    \n",
    "print('do something..')\n",
    "Feel free to change album_year value to other values -- you'll see that the result changes!\n",
    "\n",
    "Notice that the code in the above indented block will only be executed if the results are True.\n",
    "\n",
    "As before, we can add an else block to the if block. The code in the else block will only be executed if the result is False.\n",
    "\n",
    "Syntax:\n",
    "\n",
    "if (condition): # do something else: # do something else\n",
    "\n",
    "If the condition in the if statement is False, the statement after the else block will execute. This is demonstrated in the figure:\n",
    "\n",
    "Image\n",
    "# Condition statement example\n",
    "​\n",
    "album_year = 1983\n",
    "#album_year = 1970\n",
    "​\n",
    "if album_year > 1980:\n",
    "    print(\"Album year is greater than 1980\")\n",
    "else:\n",
    "    print(\"less than 1980\")\n",
    "​\n",
    "print('do something..')\n",
    "Feel free to change the album_year value to other values -- you'll see that the result changes based on it!\n",
    "\n",
    "Logical operators\n",
    "Sometimes you want to check more than one condition at once. For example, you might want to check if one condition and another condition are both True. Logical operators allow you to combine or modify conditions.\n",
    "\n",
    "and\n",
    "or\n",
    "not\n",
    "These operators are summarized for two variables using the following truth tables:\n",
    "\n",
    "Image\n",
    "The and statement is only True when both conditions are true. The or statement is True if one condition, or both are True. The not statement outputs the opposite truth value.\n",
    "\n",
    "Let's see how to determine if an album was released after 1979 (1979 is not included) and before 1990 (1990 is not included). The time periods between 1980 and 1989 satisfy this condition. This is demonstrated in the figure below. The green on lines a and b represents periods where the statement is True. The green on line c represents where both conditions are True, this corresponds to where the green regions overlap.\n",
    "\n",
    "Image\n",
    "The block of code to perform this check is given by:\n",
    "\n",
    "# Condition statement example\n",
    "​\n",
    "album_year = 1980\n",
    "​\n",
    "if(album_year > 1979) and (album_year < 1990):\n",
    "    print (\"Album year was in between 1980 and 1989\")\n",
    "    \n",
    "print(\"\")\n",
    "print(\"Do Stuff..\")\n",
    "To determine if an album was released before 1980 (1979 and earlier) or after 1989 (1990 and onward ), an or statement can be used. Periods before 1980 (1979 and earlier) or after 1989 (1990 and onward) satisfy this condition. This is demonstrated in the following figure, the color green in a and b represents periods where the statement is true. The color green in c represents where at least one of the conditions are true.\n",
    "\n",
    "Image\n",
    "The block of code to perform this check is given by:\n",
    "\n",
    "# Condition statement example\n",
    "​\n",
    "album_year = 1990\n",
    "​\n",
    "if(album_year < 1980) or (album_year > 1989):\n",
    "    print (\"Album was not made in the 1980's\")\n",
    "else:\n",
    "    print(\"The Album was made in the 1980's \")\n",
    "The not statement checks if the statement is false:\n",
    "\n",
    "# Condition statement example\n",
    "​\n",
    "album_year = 1983\n",
    "​\n",
    "if not (album_year == '1984'):\n",
    "    print (\"Album year is not 1984\")\n",
    "Quiz on Conditions\n",
    "Write an if statement to determine if an album had a rating greater than 8. Test it using the rating for the album “Back in Black” that had a rating of 8.5. If the statement is true print \"This album is Amazing!\"\n",
    "\n",
    "# Write your code below and press Shift+Enter to execute\n",
    "​\n",
    "Click here for the solution\n",
    "Write an if-else statement that performs the following. If the rating is larger then eight print “this album is amazing”. If the rating is less than or equal to 8 print “this album is ok”.\n",
    "\n",
    "# Write your code below and press Shift+Enter to execute\n",
    "​\n",
    "Click here for the solution\n",
    "Write an if statement to determine if an album came out before 1980 or in the years: 1991 or 1993. If the condition is true print out the year the album came out.\n",
    "\n",
    "# Write your code below and press Shift+Enter to execute\n",
    "​\n",
    "Click here for the solution"
   ]
  },
  {
   "cell_type": "code",
   "execution_count": 1,
   "id": "b436ed90",
   "metadata": {},
   "outputs": [
    {
     "data": {
      "text/plain": [
       "False"
      ]
     },
     "execution_count": 1,
     "metadata": {},
     "output_type": "execute_result"
    }
   ],
   "source": [
    "# Let's assign a a value of 5. Use the equality operator denoted with two equal == signs to determine if two values are equal. The case below compares the variable a with 6.\n",
    "\n",
    "# Condition Equal\n",
    "\n",
    "a = 5\n",
    "a == 6"
   ]
  },
  {
   "cell_type": "markdown",
   "id": "7ca05be0",
   "metadata": {},
   "source": [
    "#The result is False, as 5 does not equal to 6."
   ]
  },
  {
   "cell_type": "code",
   "execution_count": 2,
   "id": "dcd76084",
   "metadata": {},
   "outputs": [
    {
     "data": {
      "text/plain": [
       "True"
      ]
     },
     "execution_count": 2,
     "metadata": {},
     "output_type": "execute_result"
    }
   ],
   "source": [
    "# Consider the following equality comparison operator: i > 5. \n",
    "# If the value of the left operand, in this case the variable i, is greater than the value of the right operand, \n",
    "# in this case 5, then the statement is True. Otherwise, the statement is False. If i is equal to 6, \n",
    "# because 6 is larger than 5, the output is True.\n",
    "\n",
    "# Greater than Sign\n",
    "\n",
    "i = 6\n",
    "i > 5"
   ]
  },
  {
   "cell_type": "code",
   "execution_count": 3,
   "id": "15bc1cf0",
   "metadata": {},
   "outputs": [
    {
     "data": {
      "text/plain": [
       "False"
      ]
     },
     "execution_count": 3,
     "metadata": {},
     "output_type": "execute_result"
    }
   ],
   "source": [
    "# Set i = 2. \n",
    "# The statement is False as 2 is not greater than 5:\n",
    "\n",
    "# Greater than Sign\n",
    "\n",
    "i = 2\n",
    "i > 5"
   ]
  },
  {
   "cell_type": "code",
   "execution_count": 4,
   "id": "31b165b2",
   "metadata": {},
   "outputs": [
    {
     "data": {
      "text/plain": [
       "True"
      ]
     },
     "execution_count": 4,
     "metadata": {},
     "output_type": "execute_result"
    }
   ],
   "source": [
    "# The inequality test uses an exclamation mark preceding the equal sign, \n",
    "# if two operands are not equal then the condition becomes True. \n",
    "# For example, the following condition will produce True as long as the value of i is not equal to 6:\n",
    "\n",
    "# Inequality Sign\n",
    "\n",
    "i = 2\n",
    "i != 6"
   ]
  },
  {
   "cell_type": "code",
   "execution_count": 5,
   "id": "93c798b9",
   "metadata": {},
   "outputs": [
    {
     "data": {
      "text/plain": [
       "False"
      ]
     },
     "execution_count": 5,
     "metadata": {},
     "output_type": "execute_result"
    }
   ],
   "source": [
    "# When i equals 6 the inequality expression produces False.\n",
    "\n",
    "# Inequality Sign\n",
    "\n",
    "i = 6\n",
    "i != 6"
   ]
  },
  {
   "cell_type": "code",
   "execution_count": 6,
   "id": "7bae387e",
   "metadata": {},
   "outputs": [
    {
     "data": {
      "text/plain": [
       "False"
      ]
     },
     "execution_count": 6,
     "metadata": {},
     "output_type": "execute_result"
    }
   ],
   "source": [
    "# We can apply the same methods on strings. For example, we can use an equality operator on two different strings. \n",
    "# As the strings are not equal, we get a False.\n",
    "\n",
    "# Use Equality sign to compare the strings\n",
    "\n",
    "\"ACDC\" == \"Michael Jackson\""
   ]
  },
  {
   "cell_type": "code",
   "execution_count": 10,
   "id": "0a6186cc",
   "metadata": {},
   "outputs": [
    {
     "name": "stdout",
     "output_type": "stream",
     "text": [
      "you can enter\n",
      "move on\n"
     ]
    }
   ],
   "source": [
    "# In the case below, the code print(“you can enter”) is executed only if the variable age is greater than 18 \n",
    "# is a True case because this line of code has the indent. \n",
    "# However, the execution of print(“move on”) will not be influenced by the if statement.\n",
    "\n",
    "# If statement example\n",
    "\n",
    "age = 19\n",
    "# age = 18\n",
    "\n",
    "#expression that can be true or false\n",
    "if age > 18:\n",
    "    \n",
    "    #within an indent, we have the expression that is run if the condition is true\n",
    "    print(\"you can enter\" )\n",
    "\n",
    "#The statements after the if statement will run regardless if the condition is true or false \n",
    "\n",
    "print(\"move on\")"
   ]
  },
  {
   "cell_type": "markdown",
   "id": "ad58f2e9",
   "metadata": {},
   "source": [
    "It is helpful to use the following diagram to illustrate the process. On the left side, we see what happens when the condition is True. The person enters the ACDC concert representing the code in the indent being executed; they then move on. On the right side, we see what happens when the condition is False; the person is not granted access, and the person moves on. In this case, the segment of code in the indent does not run, but the rest of the statements are run."
   ]
  },
  {
   "cell_type": "markdown",
   "id": "986a4ae6",
   "metadata": {},
   "source": [
    "The else statement runs a block of code if none of the conditions are True before this else statement. Let's use the ACDC concert analogy again. If the user is 17 they cannot go to the ACDC concert, but they can go to the Meatloaf concert. The syntax of the else statement is similar as the syntax of the if statement, as else :. Notice that, there is no condition statement for else. Try changing the values of age to see what happens:"
   ]
  },
  {
   "cell_type": "code",
   "execution_count": 11,
   "id": "f1b30604",
   "metadata": {},
   "outputs": [
    {
     "name": "stdout",
     "output_type": "stream",
     "text": [
      "go see Meat Loaf\n",
      "move on\n"
     ]
    }
   ],
   "source": [
    "# Else statement example\n",
    "\n",
    "age = 18\n",
    "# age = 19\n",
    "\n",
    "if age > 18:\n",
    "    print(\"you can enter\" )\n",
    "else:\n",
    "    print(\"go see Meat Loaf\" )\n",
    "    \n",
    "print(\"move on\")"
   ]
  },
  {
   "cell_type": "markdown",
   "id": "2e9cbd15",
   "metadata": {},
   "source": [
    "The elif statement, short for else if, allows us to check additional conditions if the condition statements before it are False. If the condition for the elif statement is True, the alternate expressions will be run. Consider the concert example, where if the individual is 18 they will go to the Pink Floyd concert instead of attending the ACDC or Meat-loaf concert. A person that is 18 years of age enters the area, and as they are not older than 18 they can not see ACDC, but since they are 18 years of age, they attend Pink Floyd. After seeing Pink Floyd, they move on. The syntax of the elif statement is similar in that we merely change the if in the if statement to elif."
   ]
  },
  {
   "cell_type": "code",
   "execution_count": 12,
   "id": "f73ddabe",
   "metadata": {},
   "outputs": [
    {
     "name": "stdout",
     "output_type": "stream",
     "text": [
      "go see Pink Floyd\n",
      "move on\n"
     ]
    }
   ],
   "source": [
    "# Elif statment example\n",
    "\n",
    "age = 18\n",
    "\n",
    "if age > 18:\n",
    "    print(\"you can enter\" )\n",
    "elif age == 18:\n",
    "    print(\"go see Pink Floyd\")\n",
    "else:\n",
    "    print(\"go see Meat Loaf\" )\n",
    "    \n",
    "print(\"move on\")"
   ]
  },
  {
   "cell_type": "code",
   "execution_count": 13,
   "id": "651d4d5a",
   "metadata": {},
   "outputs": [
    {
     "name": "stdout",
     "output_type": "stream",
     "text": [
      "do something..\n"
     ]
    }
   ],
   "source": [
    "# Condition statement example\n",
    "\n",
    "album_year = 1983\n",
    "album_year = 1970\n",
    "\n",
    "if album_year > 1980:\n",
    "    print(\"Album year is greater than 1980\")\n",
    "    \n",
    "print('do something..')"
   ]
  },
  {
   "cell_type": "markdown",
   "id": "262ae2d1",
   "metadata": {},
   "source": [
    "Notice that the code in the above indented block will only be executed if the results are True.\n",
    "\n",
    "As before, we can add an else block to the if block. The code in the else block will only be executed if the result is False.\n",
    "\n",
    "Syntax:\n",
    "\n",
    "if (condition): # do something else: # do something else\n",
    "\n",
    "If the condition in the if statement is False, the statement after the else block will execute."
   ]
  },
  {
   "cell_type": "code",
   "execution_count": 21,
   "id": "30b67502",
   "metadata": {},
   "outputs": [
    {
     "name": "stdout",
     "output_type": "stream",
     "text": [
      "Album year is greater than 1980\n",
      "do something..\n"
     ]
    }
   ],
   "source": [
    "# Condition statement example\n",
    "\n",
    "album_year = 1983\n",
    "#album_year = 1970\n",
    "\n",
    "if album_year > 1980:\n",
    "    print(\"Album year is greater than 1980\")\n",
    "else:\n",
    "    print(\"less than 1980\")\n",
    "\n",
    "print('do something..')"
   ]
  },
  {
   "cell_type": "code",
   "execution_count": 22,
   "id": "06c5910a",
   "metadata": {},
   "outputs": [
    {
     "name": "stdout",
     "output_type": "stream",
     "text": [
      "do something..\n"
     ]
    }
   ],
   "source": [
    "# Condition statement example\n",
    "\n",
    "album_year = 1983\n",
    "album_year = 1970\n",
    "\n",
    "if album_year > 1980:\n",
    "    print(\"Album year is greater than 1980\")\n",
    "   \n",
    "print('do something..')"
   ]
  },
  {
   "cell_type": "markdown",
   "id": "036a10b2",
   "metadata": {},
   "source": [
    "# Logical operators\n",
    "Sometimes you want to check more than one condition at once. For example, you might want to check if one condition and another condition are both True. Logical operators allow you to combine or modify conditions.\n",
    "\n",
    "and\n",
    "or\n",
    "not"
   ]
  },
  {
   "cell_type": "markdown",
   "id": "9af2aadf",
   "metadata": {},
   "source": [
    "The AND statement is only True when both conditions are true. The OR statement is True if one condition, or both are True. The NOT statement outputs the opposite truth value.\n",
    "\n",
    "Let's see how to determine if an album was released after 1979 (1979 is not included) and before 1990 (1990 is not included). The time periods between 1980 and 1989 satisfy this condition. "
   ]
  },
  {
   "cell_type": "code",
   "execution_count": 23,
   "id": "4314e6a1",
   "metadata": {},
   "outputs": [
    {
     "name": "stdout",
     "output_type": "stream",
     "text": [
      "Album year was in between 1980 and 1989\n",
      "\n",
      "Do Stuff..\n"
     ]
    }
   ],
   "source": [
    "# Condition statement example\n",
    "\n",
    "album_year = 1980\n",
    "\n",
    "if(album_year > 1979) and (album_year < 1990):\n",
    "    print (\"Album year was in between 1980 and 1989\")\n",
    "    \n",
    "print(\"\")\n",
    "print(\"Do Stuff..\")"
   ]
  },
  {
   "cell_type": "markdown",
   "id": "2fd45822",
   "metadata": {},
   "source": [
    "To determine if an album was released before 1980 (1979 and earlier) or after 1989 (1990 and onward ), an or statement can be used. Periods before 1980 (1979 and earlier) or after 1989 (1990 and onward) satisfy this condition. "
   ]
  },
  {
   "cell_type": "code",
   "execution_count": 27,
   "id": "31cc1dfa",
   "metadata": {},
   "outputs": [
    {
     "name": "stdout",
     "output_type": "stream",
     "text": [
      "Album was not made in the 1980's\n"
     ]
    }
   ],
   "source": [
    "# Condition statement example\n",
    "\n",
    "album_year = 1990\n",
    "\n",
    "if(album_year < 1980) or (album_year > 1989):\n",
    "    print (\"Album was not made in the 1980's\")\n",
    "else:\n",
    "    print(\"The Album was made in the 1980's \")"
   ]
  },
  {
   "cell_type": "code",
   "execution_count": 28,
   "id": "48a422c7",
   "metadata": {},
   "outputs": [
    {
     "name": "stdout",
     "output_type": "stream",
     "text": [
      "The Album was made in the 1980's \n"
     ]
    }
   ],
   "source": [
    "# Condition statement example\n",
    "\n",
    "album_year = 1990\n",
    "\n",
    "if(album_year < 1980) and (album_year > 1989):\n",
    "    print (\"Album was not made in the 1980's\")\n",
    "else:\n",
    "    print(\"The Album was made in the 1980's \")"
   ]
  },
  {
   "cell_type": "code",
   "execution_count": 29,
   "id": "0d63c2d6",
   "metadata": {},
   "outputs": [
    {
     "name": "stdout",
     "output_type": "stream",
     "text": [
      "Album year is not 1984\n"
     ]
    }
   ],
   "source": [
    "# The not statement checks if the statement is false:\n",
    "\n",
    "# Condition statement example\n",
    "\n",
    "album_year = 1983\n",
    "\n",
    "if not (album_year == '1984'):\n",
    "    print (\"Album year is not 1984\")"
   ]
  },
  {
   "cell_type": "markdown",
   "id": "0248bd8c",
   "metadata": {},
   "source": [
    "## Quiz on Conditions\n",
    "Write an if statement to determine if an album had a rating greater than 8. Test it using the rating for the album “Back in Black” that had a rating of 8.5. If the statement is true print \"This album is Amazing!\""
   ]
  },
  {
   "cell_type": "code",
   "execution_count": 31,
   "id": "13cf5d52",
   "metadata": {},
   "outputs": [
    {
     "name": "stdout",
     "output_type": "stream",
     "text": [
      "This album is Amazing!\n",
      "we move on\n"
     ]
    }
   ],
   "source": [
    "# Write your code below and press Shift+Enter to execute\n",
    "Album = 8.5\n",
    "if Album > 8:\n",
    "    print (\"This album is Amazing!\")\n",
    "print (\"we move on\")"
   ]
  },
  {
   "cell_type": "markdown",
   "id": "e299d101",
   "metadata": {},
   "source": [
    "Write an if-else statement that performs the following. If the rating is larger then eight print “this album is amazing”. If the rating is less than or equal to 8 print “this album is ok”."
   ]
  },
  {
   "cell_type": "code",
   "execution_count": 36,
   "id": "33976c0b",
   "metadata": {},
   "outputs": [
    {
     "name": "stdout",
     "output_type": "stream",
     "text": [
      "this album is amazing\n"
     ]
    }
   ],
   "source": [
    "# Write your code below and press Shift+Enter to execute\n",
    "rating = 8.5\n",
    "if rating > 8:\n",
    "    print (\"this album is amazing\")\n",
    "elif rating <= 8:\n",
    "    print (\"this album is ok\")"
   ]
  },
  {
   "cell_type": "markdown",
   "id": "686535e5",
   "metadata": {},
   "source": [
    "Write an if statement to determine if an album came out before 1980 or in the years: 1991 or 1993. If the condition is true print out the year the album came out."
   ]
  },
  {
   "cell_type": "code",
   "execution_count": 41,
   "id": "378734a5",
   "metadata": {},
   "outputs": [
    {
     "name": "stdout",
     "output_type": "stream",
     "text": [
      "This album came out in the year 1979\n"
     ]
    }
   ],
   "source": [
    "# Write your code below and press Shift+Enter to execute\n",
    "album_year = 1979\n",
    "\n",
    "if album_year < 1980 or album_year == 1991 or album_year == 1993:\n",
    "    print (\"This album came out in the year\", album_year)"
   ]
  },
  {
   "cell_type": "code",
   "execution_count": null,
   "id": "00ea0eae",
   "metadata": {},
   "outputs": [],
   "source": []
  }
 ],
 "metadata": {
  "kernelspec": {
   "display_name": "Python 3",
   "language": "python",
   "name": "python3"
  },
  "language_info": {
   "codemirror_mode": {
    "name": "ipython",
    "version": 3
   },
   "file_extension": ".py",
   "mimetype": "text/x-python",
   "name": "python",
   "nbconvert_exporter": "python",
   "pygments_lexer": "ipython3",
   "version": "3.8.8"
  }
 },
 "nbformat": 4,
 "nbformat_minor": 5
}
