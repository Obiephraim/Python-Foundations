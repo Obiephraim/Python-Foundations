{
 "cells": [
  {
   "cell_type": "code",
   "execution_count": null,
   "id": "5def437f",
   "metadata": {},
   "outputs": [],
   "source": [
    "Sets\n",
    "Set Content\n",
    "A set is a unique collection of objects in Python. You can denote a set with a pair of curly brackets {}. Python will automatically remove duplicate items:\n",
    "\n",
    "# Create a set\n",
    "​\n",
    "set1 = {\"pop\", \"rock\", \"soul\", \"hard rock\", \"rock\", \"R&B\", \"rock\", \"disco\"}\n",
    "set1\n",
    "The process of mapping is illustrated in the figure:\n",
    "\n",
    "Image\n",
    "You can also create a set from a list as follows:\n",
    "\n",
    "# Convert list to set\n",
    "​\n",
    "album_list = [ \"Michael Jackson\", \"Thriller\", 1982, \"00:42:19\", \\\n",
    "              \"Pop, Rock, R&B\", 46.0, 65, \"30-Nov-82\", None, 10.0]\n",
    "album_set = set(album_list)             \n",
    "album_set\n",
    "Now let us create a set of genres:\n",
    "\n",
    "# Convert list to set\n",
    "​\n",
    "music_genres = set([\"pop\", \"pop\", \"rock\", \"folk rock\", \"hard rock\", \"soul\", \\\n",
    "                    \"progressive rock\", \"soft rock\", \"R&B\", \"disco\"])\n",
    "music_genres\n",
    "Set Operations\n",
    "Let us go over set operations, as these can be used to change the set. Consider the set A:\n",
    "\n",
    "# Sample set\n",
    "​\n",
    "A = set([\"Thriller\", \"Back in Black\", \"AC/DC\"])\n",
    "A\n",
    "We can add an element to a set using the add() method:\n",
    "\n",
    "# Add element to set\n",
    "​\n",
    "A.add(\"NSYNC\")\n",
    "A\n",
    "If we add the same element twice, nothing will happen as there can be no duplicates in a set:\n",
    "\n",
    "# Try to add duplicate element to the set\n",
    "​\n",
    "A.add(\"NSYNC\")\n",
    "A\n",
    "We can remove an item from a set using the remove method:\n",
    "\n",
    "# Remove the element from set\n",
    "​\n",
    "A.remove(\"NSYNC\")\n",
    "A\n",
    "We can verify if an element is in the set using the in command:\n",
    "\n",
    "# Verify if the element is in the set\n",
    "​\n",
    "\"AC/DC\" in A\n",
    "Sets Logic Operations\n",
    "Remember that with sets you can check the difference between sets, as well as the symmetric difference, intersection, and union:\n",
    "\n",
    "Consider the following two sets:\n",
    "\n",
    "# Sample Sets\n",
    "​\n",
    "album_set1 = set([\"Thriller\", 'AC/DC', 'Back in Black'])\n",
    "album_set2 = set([ \"AC/DC\", \"Back in Black\", \"The Dark Side of the Moon\"])\n",
    "Image\n",
    "# Print two sets\n",
    "​\n",
    "album_set1, album_set2\n",
    "As both sets contain AC/DC and Back in Black we represent these common elements with the intersection of two circles.\n",
    "\n",
    "Image\n",
    "You can find the intersect of two sets as follow using &:\n",
    "\n",
    "# Find the intersections\n",
    "​\n",
    "intersection = album_set1 & album_set2\n",
    "intersection\n",
    "You can find all the elements that are only contained in album_set1 using the difference method:\n",
    "\n",
    "# Find the difference in set1 but not set2\n",
    "​\n",
    "album_set1.difference(album_set2)  \n",
    "You only need to consider elements in album_set1; all the elements in album_set2, including the intersection, are not included.\n",
    "\n",
    "Image\n",
    "The elements in album_set2 but not in album_set1 is given by:\n",
    "\n",
    "album_set2.difference(album_set1)  \n",
    "Image\n",
    "You can also find the intersection of album_list1 and album_list2, using the intersection method:\n",
    "\n",
    "# Use intersection method to find the intersection of album_list1 and album_list2\n",
    "​\n",
    "album_set1.intersection(album_set2)   \n",
    "This corresponds to the intersection of the two circles:\n",
    "\n",
    "Image\n",
    "The union corresponds to all the elements in both sets, which is represented by coloring both circles:\n",
    "\n",
    "Image\n",
    "The union is given by:\n",
    "\n",
    "# Find the union of two sets\n",
    "​\n",
    "album_set1.union(album_set2)\n",
    "And you can check if a set is a superset or subset of another set, respectively, like this:\n",
    "\n",
    "# Check if superset\n",
    "​\n",
    "set(album_set1).issuperset(album_set2)   \n",
    "# Check if subset\n",
    "​\n",
    "set(album_set2).issubset(album_set1)     \n",
    "Here is an example where issubset() and issuperset() return true:\n",
    "\n",
    "# Check if subset\n",
    "​\n",
    "set({\"Back in Black\", \"AC/DC\"}).issubset(album_set1) \n",
    "# Check if superset\n",
    "​\n",
    "album_set1.issuperset({\"Back in Black\", \"AC/DC\"})   \n",
    "Quiz on Sets\n",
    "Convert the list ['rap','house','electronic music', 'rap'] to a set:\n",
    "\n",
    "# Write your code below and press Shift+Enter to execute\n",
    "​\n",
    "Click here for the solution\n",
    "Consider the list A = [1, 2, 2, 1] and set B = set([1, 2, 2, 1]), does sum(A) == sum(B)?\n",
    "\n",
    "# Write your code below and press Shift+Enter to execute\n",
    "​\n",
    "Click here for the solution\n",
    "Create a new set album_set3 that is the union of album_set1 and album_set2:\n",
    "\n",
    "# Write your code below and press Shift+Enter to execute\n",
    "​\n",
    "album_set1 = set([\"Thriller\", 'AC/DC', 'Back in Black'])\n",
    "album_set2 = set([ \"AC/DC\", \"Back in Black\", \"The Dark Side of the Moon\"])\n",
    "Click here for the solution\n",
    "Find out if album_set1 is a subset of album_set3:\n",
    "\n",
    "# Write your code below and press Shift+Enter to execute\n",
    "​\n",
    "Click here for the solution\n"
   ]
  },
  {
   "cell_type": "code",
   "execution_count": 1,
   "id": "0a896bc4",
   "metadata": {},
   "outputs": [
    {
     "data": {
      "text/plain": [
       "{'R&B', 'disco', 'hard rock', 'pop', 'rock', 'soul'}"
      ]
     },
     "execution_count": 1,
     "metadata": {},
     "output_type": "execute_result"
    }
   ],
   "source": [
    "### Set Content\n",
    "# A set is a unique collection of objects in Python. You can denote a set with a pair of curly brackets {}. \n",
    "#Python will automatically remove duplicate items:\n",
    "\n",
    "# Create a set\n",
    "\n",
    "set1 = {\"pop\", \"rock\", \"soul\", \"hard rock\", \"rock\", \"R&B\", \"rock\", \"disco\"}\n",
    "set1"
   ]
  },
  {
   "cell_type": "code",
   "execution_count": 2,
   "id": "bf66c42d",
   "metadata": {},
   "outputs": [
    {
     "data": {
      "text/plain": [
       "{'00:42:19',\n",
       " 10.0,\n",
       " 1982,\n",
       " '30-Nov-82',\n",
       " 46.0,\n",
       " 65,\n",
       " 'Michael Jackson',\n",
       " None,\n",
       " 'Pop, Rock, R&B',\n",
       " 'Thriller'}"
      ]
     },
     "execution_count": 2,
     "metadata": {},
     "output_type": "execute_result"
    }
   ],
   "source": [
    "# You can also create a set from a list as follows:\n",
    "\n",
    "# Convert list to set\n",
    "\n",
    "album_list = [ \"Michael Jackson\", \"Thriller\", 1982, \"00:42:19\", \\\n",
    "              \"Pop, Rock, R&B\", 46.0, 65, \"30-Nov-82\", None, 10.0]\n",
    "album_set = set(album_list)             \n",
    "album_set"
   ]
  },
  {
   "cell_type": "code",
   "execution_count": 3,
   "id": "a2df5df9",
   "metadata": {},
   "outputs": [
    {
     "data": {
      "text/plain": [
       "{'R&B',\n",
       " 'disco',\n",
       " 'folk rock',\n",
       " 'hard rock',\n",
       " 'pop',\n",
       " 'progressive rock',\n",
       " 'rock',\n",
       " 'soft rock',\n",
       " 'soul'}"
      ]
     },
     "execution_count": 3,
     "metadata": {},
     "output_type": "execute_result"
    }
   ],
   "source": [
    "# Now let us create a set of genres:\n",
    "\n",
    "# Convert list to set\n",
    "\n",
    "music_genres = set([\"pop\", \"pop\", \"rock\", \"folk rock\", \"hard rock\", \"soul\", \\\n",
    "                    \"progressive rock\", \"soft rock\", \"R&B\", \"disco\"])\n",
    "music_genres"
   ]
  },
  {
   "cell_type": "code",
   "execution_count": 4,
   "id": "cc175458",
   "metadata": {},
   "outputs": [
    {
     "data": {
      "text/plain": [
       "{'AC/DC', 'Back in Black', 'Thriller'}"
      ]
     },
     "execution_count": 4,
     "metadata": {},
     "output_type": "execute_result"
    }
   ],
   "source": [
    "# Sample set\n",
    "\n",
    "A = set([\"Thriller\", \"Back in Black\", \"AC/DC\"])\n",
    "A"
   ]
  },
  {
   "cell_type": "code",
   "execution_count": 5,
   "id": "c37b9730",
   "metadata": {},
   "outputs": [
    {
     "data": {
      "text/plain": [
       "{'AC/DC', 'Back in Black', 'NSYNC', 'Thriller'}"
      ]
     },
     "execution_count": 5,
     "metadata": {},
     "output_type": "execute_result"
    }
   ],
   "source": [
    "# We can add an element to a set using the add() method:\n",
    "\n",
    "# Add element to set\n",
    "\n",
    "A.add(\"NSYNC\")\n",
    "A"
   ]
  },
  {
   "cell_type": "code",
   "execution_count": 6,
   "id": "ed083670",
   "metadata": {},
   "outputs": [
    {
     "data": {
      "text/plain": [
       "{'AC/DC', 'Back in Black', 'NSYNC', 'Thriller'}"
      ]
     },
     "execution_count": 6,
     "metadata": {},
     "output_type": "execute_result"
    }
   ],
   "source": [
    "# If we add the same element twice, nothing will happen as there can be no duplicates in a set:\n",
    "\n",
    "# Try to add duplicate element to the set\n",
    "\n",
    "A.add(\"NSYNC\")\n",
    "A"
   ]
  },
  {
   "cell_type": "code",
   "execution_count": 7,
   "id": "6c8bea7b",
   "metadata": {},
   "outputs": [
    {
     "data": {
      "text/plain": [
       "{'AC/DC', 'Back in Black', 'Thriller'}"
      ]
     },
     "execution_count": 7,
     "metadata": {},
     "output_type": "execute_result"
    }
   ],
   "source": [
    "# We can remove an item from a set using the remove method:\n",
    "\n",
    "# Remove the element from set\n",
    "\n",
    "A.remove(\"NSYNC\")\n",
    "A"
   ]
  },
  {
   "cell_type": "code",
   "execution_count": 8,
   "id": "206c0518",
   "metadata": {},
   "outputs": [
    {
     "data": {
      "text/plain": [
       "True"
      ]
     },
     "execution_count": 8,
     "metadata": {},
     "output_type": "execute_result"
    }
   ],
   "source": [
    "# We can verify if an element is in the set using the in command:\n",
    "\n",
    "# Verify if the element is in the set\n",
    "\n",
    "\"AC/DC\" in A"
   ]
  },
  {
   "cell_type": "code",
   "execution_count": 9,
   "id": "d711b95b",
   "metadata": {},
   "outputs": [],
   "source": [
    "# Consider the following two sets:\n",
    "\n",
    "# Sample Sets\n",
    "\n",
    "album_set1 = set([\"Thriller\", 'AC/DC', 'Back in Black'])\n",
    "album_set2 = set([ \"AC/DC\", \"Back in Black\", \"The Dark Side of the Moon\"])"
   ]
  },
  {
   "cell_type": "code",
   "execution_count": 10,
   "id": "be2a8a44",
   "metadata": {},
   "outputs": [
    {
     "data": {
      "text/plain": [
       "({'AC/DC', 'Back in Black', 'Thriller'},\n",
       " {'AC/DC', 'Back in Black', 'The Dark Side of the Moon'})"
      ]
     },
     "execution_count": 10,
     "metadata": {},
     "output_type": "execute_result"
    }
   ],
   "source": [
    "# Print two sets\n",
    "\n",
    "album_set1, album_set2"
   ]
  },
  {
   "cell_type": "code",
   "execution_count": 11,
   "id": "1b805651",
   "metadata": {},
   "outputs": [
    {
     "data": {
      "text/plain": [
       "{'AC/DC', 'Back in Black'}"
      ]
     },
     "execution_count": 11,
     "metadata": {},
     "output_type": "execute_result"
    }
   ],
   "source": [
    "# You can find the intersect of two sets as follow using &:\n",
    "\n",
    "# Find the intersections\n",
    "\n",
    "intersection = album_set1 & album_set2\n",
    "intersection"
   ]
  },
  {
   "cell_type": "code",
   "execution_count": 12,
   "id": "609d2ed0",
   "metadata": {},
   "outputs": [
    {
     "data": {
      "text/plain": [
       "{'Thriller'}"
      ]
     },
     "execution_count": 12,
     "metadata": {},
     "output_type": "execute_result"
    }
   ],
   "source": [
    "# You can find all the elements that are only contained in album_set1 using the difference method:\n",
    "\n",
    "# Find the difference in set1 but not set2\n",
    "\n",
    "album_set1.difference(album_set2)  \n"
   ]
  },
  {
   "cell_type": "code",
   "execution_count": 13,
   "id": "8c65db13",
   "metadata": {},
   "outputs": [
    {
     "data": {
      "text/plain": [
       "{'The Dark Side of the Moon'}"
      ]
     },
     "execution_count": 13,
     "metadata": {},
     "output_type": "execute_result"
    }
   ],
   "source": [
    "# The elements in album_set2 but not in album_set1 is given by:\n",
    "\n",
    "album_set2.difference(album_set1)  "
   ]
  },
  {
   "cell_type": "code",
   "execution_count": 14,
   "id": "468d2c3e",
   "metadata": {},
   "outputs": [
    {
     "data": {
      "text/plain": [
       "{'AC/DC', 'Back in Black'}"
      ]
     },
     "execution_count": 14,
     "metadata": {},
     "output_type": "execute_result"
    }
   ],
   "source": [
    "# You can also find the intersection of album_list1 and album_list2, using the intersection method:\n",
    "\n",
    "# Use intersection method to find the intersection of album_list1 and album_list2\n",
    "\n",
    "album_set1.intersection(album_set2)   "
   ]
  },
  {
   "cell_type": "code",
   "execution_count": 15,
   "id": "fc184a7f",
   "metadata": {},
   "outputs": [
    {
     "data": {
      "text/plain": [
       "{'AC/DC', 'Back in Black'}"
      ]
     },
     "execution_count": 15,
     "metadata": {},
     "output_type": "execute_result"
    }
   ],
   "source": [
    "# You can also find the intersection of album_list1 and album_list2, using the intersection method:\n",
    "\n",
    "# Use intersection method to find the intersection of album_list1 and album_list2\n",
    "\n",
    "album_set1.intersection(album_set2)   "
   ]
  },
  {
   "cell_type": "markdown",
   "id": "a497a9bf",
   "metadata": {},
   "source": [
    "### The union corresponds to all the elements in both sets, which is represented by coloring both circles:"
   ]
  },
  {
   "cell_type": "code",
   "execution_count": 16,
   "id": "34e8dd05",
   "metadata": {},
   "outputs": [
    {
     "data": {
      "text/plain": [
       "{'AC/DC', 'Back in Black', 'The Dark Side of the Moon', 'Thriller'}"
      ]
     },
     "execution_count": 16,
     "metadata": {},
     "output_type": "execute_result"
    }
   ],
   "source": [
    "# The union is given by:\n",
    "\n",
    "# Find the union of two sets\n",
    "\n",
    "album_set1.union(album_set2)"
   ]
  },
  {
   "cell_type": "code",
   "execution_count": 17,
   "id": "f390aeea",
   "metadata": {},
   "outputs": [
    {
     "data": {
      "text/plain": [
       "False"
      ]
     },
     "execution_count": 17,
     "metadata": {},
     "output_type": "execute_result"
    }
   ],
   "source": [
    "# And you can check if a set is a superset or subset of another set, respectively, like this:\n",
    "\n",
    "# Check if superset\n",
    "\n",
    "set(album_set1).issuperset(album_set2)   "
   ]
  },
  {
   "cell_type": "code",
   "execution_count": 18,
   "id": "de84ce89",
   "metadata": {},
   "outputs": [
    {
     "data": {
      "text/plain": [
       "False"
      ]
     },
     "execution_count": 18,
     "metadata": {},
     "output_type": "execute_result"
    }
   ],
   "source": [
    "set(album_set1).issubset(album_set2)  "
   ]
  },
  {
   "cell_type": "code",
   "execution_count": 19,
   "id": "43ce9fc5",
   "metadata": {},
   "outputs": [
    {
     "data": {
      "text/plain": [
       "False"
      ]
     },
     "execution_count": 19,
     "metadata": {},
     "output_type": "execute_result"
    }
   ],
   "source": [
    "# Check if subset\n",
    "\n",
    "set(album_set2).issubset(album_set1)   "
   ]
  },
  {
   "cell_type": "code",
   "execution_count": 21,
   "id": "caead0ac",
   "metadata": {},
   "outputs": [
    {
     "data": {
      "text/plain": [
       "False"
      ]
     },
     "execution_count": 21,
     "metadata": {},
     "output_type": "execute_result"
    }
   ],
   "source": [
    "# Check if superset\n",
    "\n",
    "set(album_set2).issubset(album_set1)   "
   ]
  },
  {
   "cell_type": "code",
   "execution_count": 22,
   "id": "61d339aa",
   "metadata": {},
   "outputs": [
    {
     "data": {
      "text/plain": [
       "True"
      ]
     },
     "execution_count": 22,
     "metadata": {},
     "output_type": "execute_result"
    }
   ],
   "source": [
    "# Here is an example where issubset() and issuperset() return true:\n",
    "\n",
    "# Check if subset\n",
    "\n",
    "set({\"Back in Black\", \"AC/DC\"}).issubset(album_set1) "
   ]
  },
  {
   "cell_type": "code",
   "execution_count": 23,
   "id": "53ef38e1",
   "metadata": {},
   "outputs": [
    {
     "data": {
      "text/plain": [
       "True"
      ]
     },
     "execution_count": 23,
     "metadata": {},
     "output_type": "execute_result"
    }
   ],
   "source": [
    "# Check if superset\n",
    "\n",
    "album_set1.issuperset({\"Back in Black\", \"AC/DC\"})   "
   ]
  },
  {
   "cell_type": "markdown",
   "id": "548ffde2",
   "metadata": {},
   "source": [
    "# Quiz on Sets\n"
   ]
  },
  {
   "cell_type": "code",
   "execution_count": 25,
   "id": "3026ae67",
   "metadata": {},
   "outputs": [
    {
     "data": {
      "text/plain": [
       "{'electronic music', 'house', 'rap'}"
      ]
     },
     "execution_count": 25,
     "metadata": {},
     "output_type": "execute_result"
    }
   ],
   "source": [
    "# Convert the list ['rap','house','electronic music', 'rap'] to a set:\n",
    "\n",
    "# Write your code below and press Shift+Enter to execute\n",
    "\n",
    "set(['rap','house','electronic music', 'rap'])"
   ]
  },
  {
   "cell_type": "code",
   "execution_count": 26,
   "id": "ab0b59bd",
   "metadata": {},
   "outputs": [
    {
     "name": "stdout",
     "output_type": "stream",
     "text": [
      "the sum of A is: 6\n",
      "the sum of B is: 3\n"
     ]
    }
   ],
   "source": [
    "# Consider the list A = [1, 2, 2, 1] and set B = set([1, 2, 2, 1]), does sum(A) == sum(B)?\n",
    "\n",
    "# Write your code below and press Shift+Enter to execute\n",
    "\n",
    "A = [1, 2, 2, 1]  \n",
    "B = set([1, 2, 2, 1])\n",
    "print(\"the sum of A is:\", sum(A))\n",
    "print(\"the sum of B is:\", sum(B))"
   ]
  },
  {
   "cell_type": "code",
   "execution_count": 28,
   "id": "5ce22d9e",
   "metadata": {},
   "outputs": [
    {
     "data": {
      "text/plain": [
       "{'AC/DC', 'Back in Black', 'The Dark Side of the Moon', 'Thriller'}"
      ]
     },
     "execution_count": 28,
     "metadata": {},
     "output_type": "execute_result"
    }
   ],
   "source": [
    "# Create a new set album_set3 that is the union of album_set1 and album_set2:\n",
    "\n",
    "# Write your code below and press Shift+Enter to execute\n",
    "\n",
    "album_set1 = set([\"Thriller\", 'AC/DC', 'Back in Black'])\n",
    "album_set2 = set([ \"AC/DC\", \"Back in Black\", \"The Dark Side of the Moon\"])\n",
    "album_set3 = album_set1.union(album_set2)\n",
    "album_set3"
   ]
  },
  {
   "cell_type": "code",
   "execution_count": 29,
   "id": "a747fade",
   "metadata": {},
   "outputs": [
    {
     "data": {
      "text/plain": [
       "True"
      ]
     },
     "execution_count": 29,
     "metadata": {},
     "output_type": "execute_result"
    }
   ],
   "source": [
    "# Find out if album_set1 is a subset of album_set3:\n",
    "\n",
    "# Write your code below and press Shift+Enter to execute\n",
    "album_set1.issubset(album_set3)"
   ]
  },
  {
   "cell_type": "code",
   "execution_count": null,
   "id": "eace6964",
   "metadata": {},
   "outputs": [],
   "source": []
  }
 ],
 "metadata": {
  "kernelspec": {
   "display_name": "Python 3",
   "language": "python",
   "name": "python3"
  },
  "language_info": {
   "codemirror_mode": {
    "name": "ipython",
    "version": 3
   },
   "file_extension": ".py",
   "mimetype": "text/x-python",
   "name": "python",
   "nbconvert_exporter": "python",
   "pygments_lexer": "ipython3",
   "version": "3.8.8"
  }
 },
 "nbformat": 4,
 "nbformat_minor": 5
}
