{
 "cells": [
  {
   "cell_type": "markdown",
   "id": "4bb8e4a7",
   "metadata": {},
   "source": [
    "#### Quiz on Functions\n",
    "Come up with a function that divides the first input by the second input:"
   ]
  },
  {
   "cell_type": "code",
   "execution_count": 1,
   "id": "0f5dbcb7",
   "metadata": {},
   "outputs": [
    {
     "name": "stdout",
     "output_type": "stream",
     "text": [
      "this is the result 1.8\n"
     ]
    }
   ],
   "source": [
    "dQuiz on Functions\n",
    "Come up with a function that divides the first input by the second input:"
   ]
  },
  {
   "cell_type": "code",
   "execution_count": 2,
   "id": "7d862795",
   "metadata": {},
   "outputs": [
    {
     "name": "stdout",
     "output_type": "stream",
     "text": [
      "the result is: 1.8\n"
     ]
    }
   ],
   "source": [
    "def div(a,b):\n",
    "    c=a/b\n",
    "    return c\n",
    "result = div(9,5)\n",
    "print (\"the result is:\", result)"
   ]
  },
  {
   "cell_type": "code",
   "execution_count": 5,
   "id": "90c174be",
   "metadata": {},
   "outputs": [
    {
     "data": {
      "text/plain": [
       "'this:is'"
      ]
     },
     "execution_count": 5,
     "metadata": {},
     "output_type": "execute_result"
    }
   ],
   "source": [
    "# Use the con function for the following question\n",
    "\n",
    "def con(a, b):\n",
    "    return(a + b)\n",
    "\n",
    "# Can the con function we defined before be used to add two integers or strings?\n",
    "con(1,2)\n",
    "con(\"this\", \"is\")"
   ]
  },
  {
   "cell_type": "code",
   "execution_count": 6,
   "id": "5f030bcb",
   "metadata": {},
   "outputs": [
    {
     "data": {
      "text/plain": [
       "[1, 2, 3, 4, 5, 6, 7, 8]"
      ]
     },
     "execution_count": 6,
     "metadata": {},
     "output_type": "execute_result"
    }
   ],
   "source": [
    "# Can the con function we defined before be used to concatenate lists or tuples?\n",
    "\n",
    "# Write your code below and press Shift+Enter to execute\n",
    "# Yes it can\n",
    "list1=[1,2,3,4]\n",
    "list2=[5,6,7,8]\n",
    "con(list1,list2)"
   ]
  },
  {
   "cell_type": "code",
   "execution_count": 7,
   "id": "8c4c0c2c",
   "metadata": {},
   "outputs": [
    {
     "data": {
      "text/plain": [
       "(1, 2, 3, 4, 5, 6, 7, 8)"
      ]
     },
     "execution_count": 7,
     "metadata": {},
     "output_type": "execute_result"
    }
   ],
   "source": [
    "tuple1=(1,2,3,4)\n",
    "tuple2=(5,6,7,8)\n",
    "con(tuple1,tuple2)"
   ]
  },
  {
   "cell_type": "code",
   "execution_count": 8,
   "id": "3eb52a48",
   "metadata": {},
   "outputs": [
    {
     "data": {
      "text/plain": [
       "[1, 2, 3, 4, 5, 6, 7, 8]"
      ]
     },
     "execution_count": 8,
     "metadata": {},
     "output_type": "execute_result"
    }
   ],
   "source": [
    "con([1,2,3,4],[5,6,7,8])"
   ]
  },
  {
   "cell_type": "code",
   "execution_count": null,
   "id": "23fc64df",
   "metadata": {},
   "outputs": [],
   "source": []
  }
 ],
 "metadata": {
  "kernelspec": {
   "display_name": "Python 3",
   "language": "python",
   "name": "python3"
  },
  "language_info": {
   "codemirror_mode": {
    "name": "ipython",
    "version": 3
   },
   "file_extension": ".py",
   "mimetype": "text/x-python",
   "name": "python",
   "nbconvert_exporter": "python",
   "pygments_lexer": "ipython3",
   "version": "3.8.8"
  }
 },
 "nbformat": 4,
 "nbformat_minor": 5
}
