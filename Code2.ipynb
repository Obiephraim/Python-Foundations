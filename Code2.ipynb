{
 "cells": [
  {
   "cell_type": "markdown",
   "id": "4ef5a5ce",
   "metadata": {},
   "source": [
    "String Operations\n",
    "Estimated time needed: 15 minutes\n",
    "\n",
    "Objectives\n",
    "After completing this lab you will be able to:\n",
    "\n",
    "Work with Strings\n",
    "Perform operations on String\n",
    "Manipulate Strings using indexing and escape sequences\n",
    "Table of Contents\n",
    "What are Strings?\n",
    "Indexing\n",
    "Negative Indexing\n",
    "Slicing\n",
    "Stride\n",
    "Concatenate Strings\n",
    "Escape Sequences\n",
    "String Operations\n",
    "Quiz on Strings\n",
    "What are Strings?\n",
    "The following example shows a string contained within 2 quotation marks:\n",
    "\n",
    "# Use quotation marks for defining string\n",
    "​\n",
    "\"Michael Jackson\"\n",
    "'Michael Jackson'\n",
    "We can also use single quotation marks:\n",
    "\n",
    "# Use single quotation marks for defining string\n",
    "​\n",
    "'Michael Jackson'\n",
    "'Michael Jackson'\n",
    "A string can be a combination of spaces and digits:\n",
    "\n",
    "# Digitals and spaces in string\n",
    "​\n",
    "'1 2 3 4 5 6 '\n",
    "'1 2 3 4 5 6 '\n",
    "A string can also be a combination of special characters :\n",
    "\n",
    "# Special characters in string\n",
    "​\n",
    "'@#2_#]&*^%$'\n",
    "'@#2_#]&*^%$'\n",
    "We can print our string using the print statement:\n",
    "\n",
    "# Print the string\n",
    "​\n",
    "print(\"hello!\")\n",
    "hello!\n",
    "We can bind or assign a string to another variable:\n",
    "\n",
    "# Assign string to variable\n",
    "​\n",
    "name = \"Michael Jackson\"\n",
    "name\n",
    "'Michael Jackson'\n",
    "Indexing\n",
    "It is helpful to think of a string as an ordered sequence. Each element in the sequence can be accessed using an index represented by the array of numbers:\n",
    "\n",
    "Image\n",
    "The first index can be accessed as follows:\n",
    "\n",
    "[Tip]: Because indexing starts at 0, it means the first index is on the index 0.\n",
    "# Print the first element in the string\n",
    "​\n",
    "print(name[0])\n",
    "M\n",
    "We can access index 6:\n",
    "\n",
    "# Print the element on index 6 in the string\n",
    "​\n",
    "print(name[6])\n",
    "l\n",
    "Moreover, we can access the 13th index:\n",
    "\n",
    "# Print the element on the 13th index in the string\n",
    "​\n",
    "print(name[13])\n",
    "o\n",
    "Negative Indexing\n",
    "We can also use negative indexing with strings:\n",
    "\n",
    "Image\n",
    "Negative index can help us to count the element from the end of the string.\n",
    "\n",
    "The last element is given by the index -1:\n",
    "\n",
    "# Print the last element in the string\n",
    "​\n",
    "print(name[-1])\n",
    "n\n",
    "The first element can be obtained by index -15:\n",
    "\n",
    "# Print the first element in the string\n",
    "​\n",
    "print(name[-15])\n",
    "M\n",
    "We can find the number of characters in a string by using len, short for length:\n",
    "\n",
    "# Find the length of string\n",
    "​\n",
    "len(\"Michael Jackson\")\n",
    "15\n",
    "Slicing\n",
    "We can obtain multiple characters from a string using slicing, we can obtain the 0 to 4th and 8th to the 12th element:\n",
    "\n",
    "Image\n",
    "[Tip]: When taking the slice, the first number means the index (start at 0), and the second number means the length from the index to the last element you want (start at 1)\n",
    "# Take the slice on variable name with only index 0 to index 3\n",
    "​\n",
    "name[0:4]\n",
    "'Mich'\n",
    "# Take the slice on variable name with only index 8 to index 11\n",
    "​\n",
    "name[8:12]\n",
    "Stride\n",
    "We can also input a stride value as follows, with the '2' indicating that we are selecting every second variable:\n",
    "\n",
    "Image\n",
    "# Get every second element. The elments on index 1, 3, 5 ...\n",
    "​\n",
    "name[::2]\n",
    "'McalJcsn'\n",
    "We can also incorporate slicing with the stride. In this case, we select the first five elements and then use the stride:\n",
    "\n",
    "# Get every second element in the range from index 0 to index 4\n",
    "​\n",
    "name[0:5:2]\n",
    "'Mca'\n",
    "Concatenate Strings\n",
    "We can concatenate or combine strings by using the addition symbols, and the result is a new string that is a combination of both:\n",
    "\n",
    "# Concatenate two strings\n",
    "​\n",
    "statement = name + \"is the best\"\n",
    "statement\n",
    "'Michael Jacksonis the best'\n",
    "To replicate values of a string we simply multiply the string by the number of times we would like to replicate it. In this case, the number is three. The result is a new string, and this new string consists of three copies of the original string:\n",
    "\n",
    "# Print the string for 3 times\n",
    "​\n",
    "3 * \"Michael Jackson\"\n",
    "'Michael JacksonMichael JacksonMichael Jackson'\n",
    "You can create a new string by setting it to the original variable. Concatenated with a new string, the result is a new string that changes from Michael Jackson to “Michael Jackson is the best\".\n",
    "\n",
    "# Concatenate strings\n",
    "​\n",
    "name = \"Michael Jackson\"\n",
    "name = name + \" is the best\"\n",
    "name\n",
    "Escape Sequences\n",
    "Back slashes represent the beginning of escape sequences. Escape sequences represent strings that may be difficult to input. For example, back slash \"n\" represents a new line. The output is given by a new line after the back slash \"n\" is encountered:\n",
    "\n",
    "# New line escape sequence\n",
    "​\n",
    "print(\" Michael Jackson \\n is the best\" )\n",
    "Similarly, back slash \"t\" represents a tab:\n",
    "\n",
    "# Tab escape sequence\n",
    "​\n",
    "print(\" Michael Jackson \\t is the best\" )\n",
    "If you want to place a back slash in your string, use a double back slash:\n",
    "\n",
    "# Include back slash in string\n",
    "​\n",
    "print(\" Michael Jackson \\\\ is the best\" )\n",
    "We can also place an \"r\" before the string to display the backslash:\n",
    "\n",
    "# r will tell python that string will be display as raw string\n",
    "​\n",
    "print(r\" Michael Jackson \\ is the best\" )\n",
    "String Operations\n",
    "There are many string operation methods in Python that can be used to manipulate the data. We are going to use some basic string operations on the data.\n",
    "\n",
    "Let's try with the method upper; this method converts lower case characters to upper case characters:\n",
    "\n",
    "# Convert all the characters in string to upper case\n",
    "​\n",
    "a = \"Thriller is the sixth studio album\"\n",
    "print(\"before upper:\", a)\n",
    "b = a.upper()\n",
    "print(\"After upper:\", b)\n",
    "The method replace replaces a segment of the string, i.e. a substring with a new string. We input the part of the string we would like to change. The second argument is what we would like to exchange the segment with, and the result is a new string with the segment changed:\n",
    "\n",
    "# Replace the old substring with the new target substring is the segment has been found in the string\n",
    "​\n",
    "a = \"Michael Jackson is the best\"\n",
    "b = a.replace('Michael', 'Janet')\n",
    "b\n",
    "The method find finds a sub-string. The argument is the substring you would like to find, and the output is the first index of the sequence. We can find the sub-string jack or el.\n",
    "\n",
    "Image\n",
    "# Find the substring in the string. Only the index of the first elment of substring in string will be the output\n",
    "​\n",
    "name = \"Michael Jackson\"\n",
    "name.find('el')\n",
    "# Find the substring in the string.\n",
    "​\n",
    "name.find('Jack')\n",
    "If the sub-string is not in the string then the output is a negative one. For example, the string 'Jasdfasdasdf' is not a substring:\n",
    "\n",
    "# If cannot find the substring in the string\n",
    "​\n",
    "name.find('Jasdfasdasdf')\n",
    "Quiz on Strings\n",
    "What is the value of the variable a after the following code is executed?\n",
    "\n",
    "# Write your code below and press Shift+Enter to execute \n",
    "​\n",
    "a = \"1\"\n",
    "Click here for the solution\n",
    "What is the value of the variable b after the following code is executed?\n",
    "\n",
    "# Write your code below and press Shift+Enter to execute\n",
    "​\n",
    "b = \"2\"\n",
    "Click here for the solution\n",
    "What is the value of the variable c after the following code is executed?\n",
    "\n",
    "# Write your code below and press Shift+Enter to execute \n",
    "​\n",
    "c = a + b\n",
    "Click here for the solution\n",
    "Consider the variable d use slicing to print out the first three elements:\n",
    "\n",
    "# Write your code below and press Shift+Enter to execute\n",
    "​\n",
    "d = \"ABCDEFG\"\n",
    "Click here for the solution\n",
    "Use a stride value of 2 to print out every second character of the string e:\n",
    "\n",
    "# Write your code below and press Shift+Enter to execute\n",
    "​\n",
    "e = 'clocrkr1e1c1t'\n",
    "Click here for the solution\n",
    "Print out a backslash:\n",
    "\n",
    "# Write your code below and press Shift+Enter to execute\n",
    "​\n",
    "Click here for the solution\n",
    "Convert the variable f to uppercase:\n",
    "\n",
    "# Write your code below and press Shift+Enter to execute\n",
    "​\n",
    "f = \"You are wrong\"\n",
    "Click here for the solution\n",
    "Consider the variable g, and find the first index of the sub-string snow:\n",
    "\n",
    "# Write your code below and press Shift+Enter to execute\n",
    "​\n",
    "g = \"Mary had a little lamb Little lamb, little lamb Mary had a little lamb \\\n",
    "Its fleece was white as snow And everywhere that Mary went Mary went, Mary went \\\n",
    "Everywhere that Mary went The lamb was sure to go\"\n",
    "Click here for the solution\n",
    "In the variable g, replace the sub-string Mary with Bob:\n",
    "\n",
    "# Write your code below and press Shift+Enter to execute\n",
    "​\n",
    "Click here for the solution"
   ]
  },
  {
   "cell_type": "code",
   "execution_count": 1,
   "id": "c3fa4e71",
   "metadata": {},
   "outputs": [
    {
     "data": {
      "text/plain": [
       "'Michael Jackson'"
      ]
     },
     "execution_count": 1,
     "metadata": {},
     "output_type": "execute_result"
    }
   ],
   "source": [
    "# Use quotation marks for defining string\n",
    "\n",
    "\"Michael Jackson\""
   ]
  },
  {
   "cell_type": "code",
   "execution_count": 2,
   "id": "a0fcc6b2",
   "metadata": {},
   "outputs": [
    {
     "data": {
      "text/plain": [
       "'Michael Jackson'"
      ]
     },
     "execution_count": 2,
     "metadata": {},
     "output_type": "execute_result"
    }
   ],
   "source": [
    "# Use single quotation marks for defining string\n",
    "\n",
    "'Michael Jackson'"
   ]
  },
  {
   "cell_type": "code",
   "execution_count": 4,
   "id": "d263c2fe",
   "metadata": {},
   "outputs": [
    {
     "data": {
      "text/plain": [
       "'1 2 3 4 5 6 '"
      ]
     },
     "execution_count": 4,
     "metadata": {},
     "output_type": "execute_result"
    }
   ],
   "source": [
    "#A string can be a combination of spaces and digits:\n",
    "\n",
    "# Digitals and spaces in string\n",
    "\n",
    "'1 2 3 4 5 6 '"
   ]
  },
  {
   "cell_type": "code",
   "execution_count": 5,
   "id": "9a13d921",
   "metadata": {},
   "outputs": [
    {
     "name": "stdout",
     "output_type": "stream",
     "text": [
      "hello!\n"
     ]
    }
   ],
   "source": [
    "#We can print our string using the print statement:\n",
    "\n",
    "# Print the string\n",
    "\n",
    "print(\"hello!\")"
   ]
  },
  {
   "cell_type": "code",
   "execution_count": 6,
   "id": "fb0e4c95",
   "metadata": {},
   "outputs": [
    {
     "data": {
      "text/plain": [
       "'Michael Jackson'"
      ]
     },
     "execution_count": 6,
     "metadata": {},
     "output_type": "execute_result"
    }
   ],
   "source": [
    "# Assign string to variable\n",
    "\n",
    "name = \"Michael Jackson\"\n",
    "name"
   ]
  },
  {
   "cell_type": "code",
   "execution_count": null,
   "id": "4cf3c2b0",
   "metadata": {},
   "outputs": [],
   "source": [
    "Indexing\n",
    "It is helpful to think of a string as an ordered sequence. Each element in the sequence can be accessed using an index represented by the array of numbers:\n",
    "\n",
    "Image\n"
   ]
  },
  {
   "cell_type": "code",
   "execution_count": 7,
   "id": "5f492ac7",
   "metadata": {},
   "outputs": [
    {
     "data": {
      "text/plain": [
       "15"
      ]
     },
     "execution_count": 7,
     "metadata": {},
     "output_type": "execute_result"
    }
   ],
   "source": [
    "len (name)"
   ]
  },
  {
   "cell_type": "code",
   "execution_count": 8,
   "id": "48637f89",
   "metadata": {},
   "outputs": [
    {
     "name": "stdout",
     "output_type": "stream",
     "text": [
      "before upper: Thriller is the sixth studio album\n",
      "After upper: THRILLER IS THE SIXTH STUDIO ALBUM\n"
     ]
    }
   ],
   "source": [
    "# Convert all the characters in string to upper case\n",
    "\n",
    "a = \"Thriller is the sixth studio album\"\n",
    "print(\"before upper:\", a)\n",
    "b = a.upper()\n",
    "print(\"After upper:\", b)"
   ]
  },
  {
   "cell_type": "code",
   "execution_count": 10,
   "id": "42c98d35",
   "metadata": {},
   "outputs": [
    {
     "data": {
      "text/plain": [
       "'PETER'"
      ]
     },
     "execution_count": 10,
     "metadata": {},
     "output_type": "execute_result"
    }
   ],
   "source": [
    "a='peter'\n",
    "b=a.upper()\n",
    "b"
   ]
  },
  {
   "cell_type": "code",
   "execution_count": 12,
   "id": "ba6c71cf",
   "metadata": {},
   "outputs": [
    {
     "name": "stdout",
     "output_type": "stream",
     "text": [
      "before upper: peter\n",
      "after upper: PETER\n"
     ]
    }
   ],
   "source": [
    "a='peter'\n",
    "print('before upper:', a)\n",
    "b=a.upper()\n",
    "print('after upper:', b)"
   ]
  },
  {
   "cell_type": "code",
   "execution_count": 13,
   "id": "18cf4b50",
   "metadata": {},
   "outputs": [
    {
     "data": {
      "text/plain": [
       "'Janet Jackson is the best'"
      ]
     },
     "execution_count": 13,
     "metadata": {},
     "output_type": "execute_result"
    }
   ],
   "source": [
    "# Replace the old substring with the new target substring is the segment has been found in the string\n",
    "\n",
    "a = \"Michael Jackson is the best\"\n",
    "b = a.replace('Michael', 'Janet')\n",
    "b"
   ]
  },
  {
   "cell_type": "code",
   "execution_count": 14,
   "id": "e6ee4268",
   "metadata": {},
   "outputs": [
    {
     "name": "stdout",
     "output_type": "stream",
     "text": [
      "ABC\n"
     ]
    }
   ],
   "source": [
    "# Consider the variable d use slicing to print out the first three elements:\n",
    "\n",
    "# Write your code below and press Shift+Enter to execute\n",
    "\n",
    "d = \"ABCDEFG\"\n",
    "print(d[0:3])"
   ]
  },
  {
   "cell_type": "code",
   "execution_count": 15,
   "id": "b18934dd",
   "metadata": {},
   "outputs": [
    {
     "name": "stdout",
     "output_type": "stream",
     "text": [
      "Object `executed` not found.\n",
      "Object `executed` not found.\n"
     ]
    },
    {
     "data": {
      "text/plain": [
       "'12'"
      ]
     },
     "execution_count": 15,
     "metadata": {},
     "output_type": "execute_result"
    }
   ],
   "source": [
    "What is the value of the variable b after the following code is executed?\n",
    "\n",
    "# Write your code below and press Shift+Enter to execute\n",
    "a = \"1\"\n",
    "b = \"2\"\n",
    "\n",
    "What is the value of the variable c after the following code is executed?\n",
    "\n",
    "# Write your code below and press Shift+Enter to execute \n",
    "\n",
    "c = a + b\n",
    "c"
   ]
  },
  {
   "cell_type": "code",
   "execution_count": 20,
   "id": "00567996",
   "metadata": {},
   "outputs": [
    {
     "data": {
      "text/plain": [
       "'correct'"
      ]
     },
     "execution_count": 20,
     "metadata": {},
     "output_type": "execute_result"
    }
   ],
   "source": [
    "#Use a stride value of 2 to print out every second character of the string e:\n",
    "\n",
    "# Write your code below and press Shift+Enter to execute\n",
    "\n",
    "e = 'clocrkr1e1c1t'\n",
    "e[::2]\n"
   ]
  },
  {
   "cell_type": "code",
   "execution_count": 21,
   "id": "6a1a2079",
   "metadata": {},
   "outputs": [
    {
     "name": "stdout",
     "output_type": "stream",
     "text": [
      "correct\n"
     ]
    }
   ],
   "source": [
    "e = 'clocrkr1e1c1t'\n",
    "print(e[::2])"
   ]
  },
  {
   "cell_type": "code",
   "execution_count": 29,
   "id": "84518c3f",
   "metadata": {},
   "outputs": [
    {
     "name": "stdout",
     "output_type": "stream",
     "text": [
      "\\\n",
      "\\ \n"
     ]
    }
   ],
   "source": [
    "#Print out a backslash:\n",
    "\n",
    "# Write your code below and press Shift+Enter to execute\n",
    "print(\"\\\\\")\n",
    "print(r\"\\ \")"
   ]
  },
  {
   "cell_type": "code",
   "execution_count": 35,
   "id": "28d48cad",
   "metadata": {},
   "outputs": [
    {
     "data": {
      "text/plain": [
       "'YOU ARE WRONG'"
      ]
     },
     "execution_count": 35,
     "metadata": {},
     "output_type": "execute_result"
    }
   ],
   "source": [
    "#Convert the variable f to uppercase:\n",
    "\n",
    "# Write your code below and press Shift+Enter to execute\n",
    "f = \"You are wrong\"\n",
    "f.upper()"
   ]
  },
  {
   "cell_type": "code",
   "execution_count": 40,
   "id": "3b31833e",
   "metadata": {},
   "outputs": [
    {
     "data": {
      "text/plain": [
       "95"
      ]
     },
     "execution_count": 40,
     "metadata": {},
     "output_type": "execute_result"
    }
   ],
   "source": [
    "#Consider the variable g, and find the first index of the sub-string snow:\n",
    "\n",
    "# Write your code below and press Shift+Enter to execute\n",
    "\n",
    "g = \"Mary had a little lamb Little lamb, little lamb Mary had a little lamb \\\n",
    "Its fleece was white as snow And everywhere that Mary went Mary went, Mary went \\\n",
    "Everywhere that Mary went The lamb was sure to go\"\n",
    "\n",
    "g.find(\"snow\")\n",
    "\n"
   ]
  },
  {
   "cell_type": "code",
   "execution_count": 39,
   "id": "224f920d",
   "metadata": {},
   "outputs": [
    {
     "data": {
      "text/plain": [
       "'Bob had a little lamb Little lamb, little lamb Bob had a little lamb Its fleece was white as snow And everywhere that Bob went Bob went, Bob went Everywhere that Bob went The lamb was sure to go'"
      ]
     },
     "execution_count": 39,
     "metadata": {},
     "output_type": "execute_result"
    }
   ],
   "source": [
    "#In the variable g, replace the sub-string Mary with Bob:\n",
    "g.replace(\"Mary\", \"Bob\")"
   ]
  },
  {
   "cell_type": "code",
   "execution_count": null,
   "id": "b63e47c0",
   "metadata": {},
   "outputs": [],
   "source": []
  }
 ],
 "metadata": {
  "kernelspec": {
   "display_name": "Python 3",
   "language": "python",
   "name": "python3"
  },
  "language_info": {
   "codemirror_mode": {
    "name": "ipython",
    "version": 3
   },
   "file_extension": ".py",
   "mimetype": "text/x-python",
   "name": "python",
   "nbconvert_exporter": "python",
   "pygments_lexer": "ipython3",
   "version": "3.8.8"
  }
 },
 "nbformat": 4,
 "nbformat_minor": 5
}
