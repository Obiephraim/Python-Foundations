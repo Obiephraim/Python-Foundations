{
 "cells": [
  {
   "cell_type": "code",
   "execution_count": null,
   "id": "f8ac7cb2",
   "metadata": {},
   "outputs": [],
   "source": [
    "Tuples in Python\n",
    "Estimated time needed: 15 minutes\n",
    "\n",
    "Objectives\n",
    "After completing this lab you will be able to:\n",
    "\n",
    "Perform the basics tuple operations in Python, including indexing, slicing and sorting\n",
    "Table of Contents\n",
    "About the Dataset\n",
    "Tuples\n",
    "Indexing\n",
    "Slicing\n",
    "Sorting\n",
    "Quiz on Tuples\n",
    "About the Dataset\n",
    "Imagine you received album recommendations from your friends and compiled all of the recommendations into a table, with specific information about each album.\n",
    "\n",
    "The table has one row for each movie and several columns:\n",
    "\n",
    "artist - Name of the artist\n",
    "album - Name of the album\n",
    "released_year - Year the album was released\n",
    "length_min_sec - Length of the album (hours,minutes,seconds)\n",
    "genre - Genre of the album\n",
    "music_recording_sales_millions - Music recording sales (millions in USD) on SONG://DATABASE\n",
    "claimed_sales_millions - Album's claimed sales (millions in USD) on SONG://DATABASE\n",
    "date_released - Date on which the album was released\n",
    "soundtrack - Indicates if the album is the movie soundtrack (Y) or (N)\n",
    "rating_of_friends - Indicates the rating from your friends from 1 to 10\n",
    "\n",
    "\n",
    "The dataset can be seen below:\n",
    "\n",
    "Artist\tAlbum\tReleased\tLength\tGenre\tMusic recording sales (millions)\tClaimed sales (millions)\tReleased\tSoundtrack\tRating (friends)\n",
    "Michael Jackson\tThriller\t1982\t00:42:19\tPop, rock, R&B\t46\t65\t30-Nov-82\t\t10.0\n",
    "AC/DC\tBack in Black\t1980\t00:42:11\tHard rock\t26.1\t50\t25-Jul-80\t\t8.5\n",
    "Pink Floyd\tThe Dark Side of the Moon\t1973\t00:42:49\tProgressive rock\t24.2\t45\t01-Mar-73\t\t9.5\n",
    "Whitney Houston\tThe Bodyguard\t1992\t00:57:44\tSoundtrack/R&B, soul, pop\t26.1\t50\t25-Jul-80\tY\t7.0\n",
    "Meat Loaf\tBat Out of Hell\t1977\t00:46:33\tHard rock, progressive rock\t20.6\t43\t21-Oct-77\t\t7.0\n",
    "Eagles\tTheir Greatest Hits (1971-1975)\t1976\t00:43:08\tRock, soft rock, folk rock\t32.2\t42\t17-Feb-76\t\t9.5\n",
    "Bee Gees\tSaturday Night Fever\t1977\t1:15:54\tDisco\t20.6\t40\t15-Nov-77\tY\t9.0\n",
    "Fleetwood Mac\tRumours\t1977\t00:40:01\tSoft rock\t27.9\t40\t04-Feb-77\t\t9.5\n",
    "Tuples\n",
    "In Python, there are different data types: string, integer, and float. These data types can all be contained in a tuple as follows:\n",
    "\n",
    "Image\n",
    "Now, let us create your first tuple with string, integer and float.\n",
    "\n",
    "# Create your first tuple\n",
    "​\n",
    "tuple1 = (\"disco\",10,1.2 )\n",
    "tuple1\n",
    "('disco', 10, 1.2)\n",
    "The type of variable is a tuple.\n",
    "\n",
    "# Print the type of the tuple you created\n",
    "​\n",
    "type(tuple1)\n",
    "tuple\n",
    "Indexing\n",
    "Each element of a tuple can be accessed via an index. The following table represents the relationship between the index and the items in the tuple. Each element can be obtained by the name of the tuple followed by a square bracket with the index number:\n",
    "\n",
    "Image\n",
    "We can print out each value in the tuple:\n",
    "\n",
    "# Print the variable on each index\n",
    "​\n",
    "print(tuple1[0])\n",
    "print(tuple1[1])\n",
    "print(tuple1[2])\n",
    "We can print out the type of each value in the tuple:\n",
    "\n",
    "# Print the type of value on each index\n",
    "​\n",
    "print(type(tuple1[0]))\n",
    "print(type(tuple1[1]))\n",
    "print(type(tuple1[2]))\n",
    "We can also use negative indexing. We use the same table above with corresponding negative values:\n",
    "\n",
    "Image\n",
    "We can obtain the last element as follows (this time we will not use the print statement to display the values):\n",
    "\n",
    "# Use negative index to get the value of the last element\n",
    "​\n",
    "tuple1[-1]\n",
    "We can display the next two elements as follows:\n",
    "\n",
    "# Use negative index to get the value of the second last element\n",
    "​\n",
    "tuple1[-2]\n",
    "# Use negative index to get the value of the third last element\n",
    "​\n",
    "tuple1[-3]\n",
    "Concatenate Tuples\n",
    "We can concatenate or combine tuples by using the + sign:\n",
    "\n",
    "# Concatenate two tuples\n",
    "​\n",
    "tuple2 = tuple1 + (\"hard rock\", 10)\n",
    "tuple2\n",
    "We can slice tuples obtaining multiple values as demonstrated by the figure below:\n",
    "\n",
    "Image\n",
    "Slicing\n",
    "We can slice tuples, obtaining new tuples with the corresponding elements:\n",
    "\n",
    "# Slice from index 0 to index 2\n",
    "​\n",
    "tuple2[0:3]\n",
    "We can obtain the last two elements of the tuple:\n",
    "\n",
    "# Slice from index 3 to index 4\n",
    "​\n",
    "tuple2[3:5]\n",
    "We can obtain the length of a tuple using the length command:\n",
    "\n",
    "# Get the length of tuple\n",
    "​\n",
    "len(tuple2)\n",
    "This figure shows the number of elements:\n",
    "\n",
    "Image\n",
    "Sorting\n",
    "Consider the following tuple:\n",
    "\n",
    "# A sample tuple\n",
    "​\n",
    "Ratings = (0, 9, 6, 5, 10, 8, 9, 6, 2)\n",
    "We can sort the values in a tuple and save it to a new tuple:\n",
    "\n",
    "# Sort the tuple\n",
    "​\n",
    "RatingsSorted = sorted(Ratings)\n",
    "RatingsSorted\n",
    "Nested Tuple\n",
    "A tuple can contain another tuple as well as other more complex data types. This process is called 'nesting'. Consider the following tuple with several elements:\n",
    "\n",
    "# Create a nest tuple\n",
    "​\n",
    "NestedT =(1, 2, (\"pop\", \"rock\") ,(3,4),(\"disco\",(1,2)))\n",
    "Each element in the tuple, including other tuples, can be obtained via an index as shown in the figure:\n",
    "\n",
    "Image\n",
    "# Print element on each index\n",
    "​\n",
    "print(\"Element 0 of Tuple: \", NestedT[0])\n",
    "print(\"Element 1 of Tuple: \", NestedT[1])\n",
    "print(\"Element 2 of Tuple: \", NestedT[2])\n",
    "print(\"Element 3 of Tuple: \", NestedT[3])\n",
    "print(\"Element 4 of Tuple: \", NestedT[4])\n",
    "We can use the second index to access other tuples as demonstrated in the figure:\n",
    "\n",
    "Image\n",
    "We can access the nested tuples:\n",
    "\n",
    "# Print element on each index, including nest indexes\n",
    "​\n",
    "print(\"Element 2, 0 of Tuple: \",   NestedT[2][0])\n",
    "print(\"Element 2, 1 of Tuple: \",   NestedT[2][1])\n",
    "print(\"Element 3, 0 of Tuple: \",   NestedT[3][0])\n",
    "print(\"Element 3, 1 of Tuple: \",   NestedT[3][1])\n",
    "print(\"Element 4, 0 of Tuple: \",   NestedT[4][0])\n",
    "print(\"Element 4, 1 of Tuple: \",   NestedT[4][1])\n",
    "We can access strings in the second nested tuples using a third index:\n",
    "\n",
    "# Print the first element in the second nested tuples\n",
    "​\n",
    "NestedT[2][1][0]\n",
    "# Print the second element in the second nested tuples\n",
    "​\n",
    "NestedT[2][1][1]\n",
    "We can use a tree to visualise the process. Each new index corresponds to a deeper level in the tree:\n",
    "\n",
    "Image\n",
    "Similarly, we can access elements nested deeper in the tree with a third index:\n",
    "\n",
    "# Print the first element in the second nested tuples\n",
    "​\n",
    "NestedT[4][1][0]\n",
    "# Print the second element in the second nested tuples\n",
    "​\n",
    "NestedT[4][1][1]\n",
    "The following figure shows the relationship of the tree and the element NestedT[4][1][1]:\n",
    "\n",
    "Image\n",
    "Quiz on Tuples\n",
    "Consider the following tuple:\n",
    "\n",
    "# sample tuple\n",
    "​\n",
    "genres_tuple = (\"pop\", \"rock\", \"soul\", \"hard rock\", \"soft rock\", \\\n",
    "                \"R&B\", \"progressive rock\", \"disco\") \n",
    "genres_tuple\n",
    "Find the length of the tuple, genres_tuple:\n",
    "\n",
    "# Write your code below and press Shift+Enter to execute\n",
    "​\n",
    "Image\n",
    "Click here for the solution\n",
    "Access the element, with respect to index 3:\n",
    "\n",
    "# Write your code below and press Shift+Enter to execute\n",
    "​\n",
    "Click here for the solution\n",
    "Use slicing to obtain indexes 3, 4 and 5:\n",
    "\n",
    "# Write your code below and press Shift+Enter to execute\n",
    "​\n",
    "Click here for the solution\n",
    "Find the first two elements of the tuple genres_tuple:\n",
    "\n",
    "# Write your code below and press Shift+Enter to execute\n",
    "​\n",
    "Click here for the solution\n",
    "Find the first index of \"disco\":\n",
    "\n",
    "# Write your code below and press Shift+Enter to execute\n",
    "​\n",
    "Click here for the solution\n",
    "Generate a sorted List from the Tuple C_tuple=(-5, 1, -3):\n",
    "\n",
    "# Write your code below and press Shift+Enter to execute\n",
    "​\n",
    "Click here for the solution"
   ]
  },
  {
   "cell_type": "code",
   "execution_count": 1,
   "id": "425b199e",
   "metadata": {},
   "outputs": [
    {
     "data": {
      "text/plain": [
       "('disco', 10, 1.2)"
      ]
     },
     "execution_count": 1,
     "metadata": {},
     "output_type": "execute_result"
    }
   ],
   "source": [
    "# Create your first tuple\n",
    "\n",
    "tuple1 = (\"disco\",10,1.2 )\n",
    "tuple1"
   ]
  },
  {
   "cell_type": "code",
   "execution_count": 2,
   "id": "d4e8c6a5",
   "metadata": {},
   "outputs": [
    {
     "data": {
      "text/plain": [
       "tuple"
      ]
     },
     "execution_count": 2,
     "metadata": {},
     "output_type": "execute_result"
    }
   ],
   "source": [
    "# Print the type of the tuple you created\n",
    "\n",
    "type(tuple1)"
   ]
  },
  {
   "cell_type": "code",
   "execution_count": 3,
   "id": "c8ea05a4",
   "metadata": {},
   "outputs": [
    {
     "data": {
      "text/plain": [
       "('disco', 10, 1.2, 'hard rock', 10)"
      ]
     },
     "execution_count": 3,
     "metadata": {},
     "output_type": "execute_result"
    }
   ],
   "source": [
    "# We can concatenate or combine tuples by using the + sign:\n",
    "\n",
    "# Concatenate two tuples\n",
    "\n",
    "tuple2 = tuple1 + (\"hard rock\", 10)\n",
    "tuple2"
   ]
  },
  {
   "cell_type": "code",
   "execution_count": 4,
   "id": "1c3597f9",
   "metadata": {},
   "outputs": [
    {
     "data": {
      "text/plain": [
       "('disco', 10, 1.2)"
      ]
     },
     "execution_count": 4,
     "metadata": {},
     "output_type": "execute_result"
    }
   ],
   "source": [
    "# We can slice tuples, obtaining new tuples with the corresponding elements:\n",
    "\n",
    "# Slice from index 0 to index 2\n",
    "\n",
    "tuple2[0:3]"
   ]
  },
  {
   "cell_type": "code",
   "execution_count": 5,
   "id": "b259d592",
   "metadata": {},
   "outputs": [
    {
     "data": {
      "text/plain": [
       "('hard rock', 10)"
      ]
     },
     "execution_count": 5,
     "metadata": {},
     "output_type": "execute_result"
    }
   ],
   "source": [
    "# We can obtain the last two elements of the tuple:\n",
    "\n",
    "# Slice from index 3 to index 4\n",
    "\n",
    "tuple2[3:5]"
   ]
  },
  {
   "cell_type": "code",
   "execution_count": 6,
   "id": "e2b67e62",
   "metadata": {},
   "outputs": [
    {
     "data": {
      "text/plain": [
       "5"
      ]
     },
     "execution_count": 6,
     "metadata": {},
     "output_type": "execute_result"
    }
   ],
   "source": [
    "# We can obtain the length of a tuple using the length command:\n",
    "\n",
    "# Get the length of tuple\n",
    "\n",
    "len(tuple2)"
   ]
  },
  {
   "cell_type": "code",
   "execution_count": 7,
   "id": "0756045b",
   "metadata": {},
   "outputs": [],
   "source": [
    "# Consider the following tuple:\n",
    "\n",
    "# A sample tuple\n",
    "\n",
    "Ratings = (0, 9, 6, 5, 10, 8, 9, 6, 2)"
   ]
  },
  {
   "cell_type": "code",
   "execution_count": 8,
   "id": "dff722f3",
   "metadata": {},
   "outputs": [
    {
     "data": {
      "text/plain": [
       "[0, 2, 5, 6, 6, 8, 9, 9, 10]"
      ]
     },
     "execution_count": 8,
     "metadata": {},
     "output_type": "execute_result"
    }
   ],
   "source": [
    "# We can sort the values in a tuple and save it to a new tuple:\n",
    "\n",
    "# Sort the tuple\n",
    "\n",
    "RatingsSorted = sorted(Ratings)\n",
    "RatingsSorted"
   ]
  },
  {
   "cell_type": "code",
   "execution_count": 10,
   "id": "c45b4bdb",
   "metadata": {},
   "outputs": [],
   "source": [
    "Names = (\"obi\", \"ada\", \"ego\", \"umu\", \"cle\")"
   ]
  },
  {
   "cell_type": "code",
   "execution_count": 11,
   "id": "2fb24910",
   "metadata": {},
   "outputs": [
    {
     "data": {
      "text/plain": [
       "('obi', 'ada', 'ego', 'umu', 'cle')"
      ]
     },
     "execution_count": 11,
     "metadata": {},
     "output_type": "execute_result"
    }
   ],
   "source": [
    "Names"
   ]
  },
  {
   "cell_type": "code",
   "execution_count": 13,
   "id": "e071f1aa",
   "metadata": {},
   "outputs": [
    {
     "data": {
      "text/plain": [
       "['ada', 'cle', 'ego', 'obi', 'umu']"
      ]
     },
     "execution_count": 13,
     "metadata": {},
     "output_type": "execute_result"
    }
   ],
   "source": [
    "Names_sorted = sorted(Names)\n",
    "Names_sorted"
   ]
  },
  {
   "cell_type": "code",
   "execution_count": 14,
   "id": "fafd0c0d",
   "metadata": {},
   "outputs": [],
   "source": [
    "# Nested Tuple\n",
    "# A tuple can contain another tuple as well as other more complex data types. This process is called 'nesting'. \n",
    "# Consider the following tuple with several elements:\n",
    "\n",
    "# Create a nest tuple\n",
    "\n",
    "NestedT =(1, 2, (\"pop\", \"rock\") ,(3,4),(\"disco\",(1,2)))"
   ]
  },
  {
   "cell_type": "code",
   "execution_count": 15,
   "id": "f0a2c9be",
   "metadata": {},
   "outputs": [
    {
     "data": {
      "text/plain": [
       "(1, 2, ('pop', 'rock'), (3, 4), ('disco', (1, 2)))"
      ]
     },
     "execution_count": 15,
     "metadata": {},
     "output_type": "execute_result"
    }
   ],
   "source": [
    "NestedT"
   ]
  },
  {
   "cell_type": "code",
   "execution_count": 16,
   "id": "43d01e42",
   "metadata": {},
   "outputs": [
    {
     "data": {
      "text/plain": [
       "'r'"
      ]
     },
     "execution_count": 16,
     "metadata": {},
     "output_type": "execute_result"
    }
   ],
   "source": [
    "# We can access strings in the second nested tuples using a third index:\n",
    "\n",
    "# Print the first element in the second nested tuples\n",
    "\n",
    "NestedT[2][1][0]"
   ]
  },
  {
   "cell_type": "code",
   "execution_count": 17,
   "id": "64be126a",
   "metadata": {},
   "outputs": [
    {
     "data": {
      "text/plain": [
       "1"
      ]
     },
     "execution_count": 17,
     "metadata": {},
     "output_type": "execute_result"
    }
   ],
   "source": [
    "# Similarly, we can access elements nested deeper in the tree with a third index:\n",
    "\n",
    "# Print the first element in the second nested tuples\n",
    "\n",
    "NestedT[4][1][0]"
   ]
  },
  {
   "cell_type": "code",
   "execution_count": 18,
   "id": "e0ff0ea5",
   "metadata": {},
   "outputs": [
    {
     "data": {
      "text/plain": [
       "2"
      ]
     },
     "execution_count": 18,
     "metadata": {},
     "output_type": "execute_result"
    }
   ],
   "source": [
    "# Print the second element in the second nested tuples\n",
    "\n",
    "NestedT[4][1][1]"
   ]
  },
  {
   "cell_type": "code",
   "execution_count": 19,
   "id": "b6d01056",
   "metadata": {},
   "outputs": [
    {
     "data": {
      "text/plain": [
       "8"
      ]
     },
     "execution_count": 19,
     "metadata": {},
     "output_type": "execute_result"
    }
   ],
   "source": [
    "# Quiz on Tuples\n",
    "# Consider the following tuple:\n",
    "\n",
    "# sample tuple\n",
    "\n",
    "genres_tuple = (\"pop\", \"rock\", \"soul\", \"hard rock\", \"soft rock\", \\\n",
    "                \"R&B\", \"progressive rock\", \"disco\") \n",
    "genres_tuple\n",
    "\n",
    "# Find the length of the tuple, genres_tuple:\n",
    "len(genres_tuple)"
   ]
  },
  {
   "cell_type": "code",
   "execution_count": 20,
   "id": "758e469e",
   "metadata": {},
   "outputs": [
    {
     "data": {
      "text/plain": [
       "'hard rock'"
      ]
     },
     "execution_count": 20,
     "metadata": {},
     "output_type": "execute_result"
    }
   ],
   "source": [
    "# Access the element, with respect to index 3:\n",
    "\n",
    "# Write your code below and press Shift+Enter to execute\n",
    "\n",
    "genres_tuple[3]"
   ]
  },
  {
   "cell_type": "code",
   "execution_count": 21,
   "id": "d4623c67",
   "metadata": {},
   "outputs": [
    {
     "data": {
      "text/plain": [
       "('hard rock', 'soft rock', 'R&B')"
      ]
     },
     "execution_count": 21,
     "metadata": {},
     "output_type": "execute_result"
    }
   ],
   "source": [
    "# Use slicing to obtain indexes 3, 4 and 5:\n",
    "\n",
    "# Write your code below and press Shift+Enter to execute\n",
    "\n",
    "genres_tuple[3:6]"
   ]
  },
  {
   "cell_type": "code",
   "execution_count": 23,
   "id": "4549c2f8",
   "metadata": {},
   "outputs": [
    {
     "data": {
      "text/plain": [
       "('pop', 'rock')"
      ]
     },
     "execution_count": 23,
     "metadata": {},
     "output_type": "execute_result"
    }
   ],
   "source": [
    "#Find the first two elements of the tuple genres_tuple:\n",
    "\n",
    "# Write your code below and press Shift+Enter to execute\n",
    "\n",
    "genres_tuple[0:2]"
   ]
  },
  {
   "cell_type": "code",
   "execution_count": 26,
   "id": "01142036",
   "metadata": {},
   "outputs": [
    {
     "data": {
      "text/plain": [
       "7"
      ]
     },
     "execution_count": 26,
     "metadata": {},
     "output_type": "execute_result"
    }
   ],
   "source": [
    "# Find the first index of \"disco\":\n",
    "genres_tuple[0:2]\n",
    "# Write your code below and press Shift+Enter to execute\n",
    "\n",
    "genres_tuple[7][0]\n",
    "genres_tuple.index(\"disco\")"
   ]
  },
  {
   "cell_type": "code",
   "execution_count": 27,
   "id": "6fa8439e",
   "metadata": {},
   "outputs": [
    {
     "data": {
      "text/plain": [
       "'d'"
      ]
     },
     "execution_count": 27,
     "metadata": {},
     "output_type": "execute_result"
    }
   ],
   "source": [
    "genres_tuple[7][0]"
   ]
  },
  {
   "cell_type": "code",
   "execution_count": 29,
   "id": "5c67c187",
   "metadata": {},
   "outputs": [
    {
     "data": {
      "text/plain": [
       "[-5, -3, 1]"
      ]
     },
     "execution_count": 29,
     "metadata": {},
     "output_type": "execute_result"
    }
   ],
   "source": [
    "# Generate a sorted List from the Tuple C_tuple=(-5, 1, -3):\n",
    "\n",
    "# Write your code below and press Shift+Enter to execute\n",
    "C_tuple = (-5, 1, -3)\n",
    "C_list = sorted(C_tuple)\n",
    "C_list"
   ]
  },
  {
   "cell_type": "code",
   "execution_count": 30,
   "id": "70f5381a",
   "metadata": {},
   "outputs": [
    {
     "data": {
      "text/plain": [
       "(-5, 1, -3)"
      ]
     },
     "execution_count": 30,
     "metadata": {},
     "output_type": "execute_result"
    }
   ],
   "source": [
    "C_tuple"
   ]
  },
  {
   "cell_type": "code",
   "execution_count": 31,
   "id": "c8caf725",
   "metadata": {},
   "outputs": [
    {
     "data": {
      "text/plain": [
       "[-5, -3, 1]"
      ]
     },
     "execution_count": 31,
     "metadata": {},
     "output_type": "execute_result"
    }
   ],
   "source": [
    "C_list"
   ]
  },
  {
   "cell_type": "code",
   "execution_count": null,
   "id": "18ea3c13",
   "metadata": {},
   "outputs": [],
   "source": []
  }
 ],
 "metadata": {
  "kernelspec": {
   "display_name": "Python 3",
   "language": "python",
   "name": "python3"
  },
  "language_info": {
   "codemirror_mode": {
    "name": "ipython",
    "version": 3
   },
   "file_extension": ".py",
   "mimetype": "text/x-python",
   "name": "python",
   "nbconvert_exporter": "python",
   "pygments_lexer": "ipython3",
   "version": "3.8.8"
  }
 },
 "nbformat": 4,
 "nbformat_minor": 5
}
